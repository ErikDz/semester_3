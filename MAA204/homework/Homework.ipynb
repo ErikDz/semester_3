{
 "cells": [
  {
   "cell_type": "markdown",
   "metadata": {
    "pycharm": {
     "name": "#%% md\n"
    }
   },
   "source": [
    "<img src='./figures/logo-ecole-polytechnique-ve.jpg' style='position:absolute; top:0; right:0;' width='100px' height='' alt='' />\n",
    "\n",
    "<center><b>Bachelor of Ecole Polytechnique</b></center>\n",
    "<center>MAA204: Introduction to Statistics, Homework</center>\n",
    "<center>Adithya Ravichandran</center>\n",
    "<br>\n",
    "\n",
    "# MAA204 Homework 2022/23"
   ]
  },
  {
   "cell_type": "code",
   "execution_count": 11,
   "metadata": {
    "pycharm": {
     "name": "#%%\n"
    }
   },
   "outputs": [],
   "source": [
    "## loading python libraries\n",
    "\n",
    "# necessary to display plots inline:\n",
    "%matplotlib inline   \n",
    "\n",
    "# load the libraries\n",
    "import matplotlib.pyplot as plt # 2D plotting library\n",
    "import numpy as np              # package for scientific computing  \n",
    "import pandas as pd\n",
    "import scipy\n",
    "\n",
    "from math import * # package for mathematics (pi, arctan, sqrt, factorial ...)\n",
    "from scipy import stats"
   ]
  },
  {
   "cell_type": "markdown",
   "metadata": {
    "pycharm": {
     "name": "#%% md\n"
    }
   },
   "source": [
    "## Exercise 1 Part 1"
   ]
  },
  {
   "cell_type": "markdown",
   "metadata": {
    "pycharm": {
     "name": "#%% md\n"
    }
   },
   "source": [
    "&nbsp;\n",
    "\n",
    "<img src=\"./figures/Ex1pt1.png\" alt=\"Roots\" style=\"width: 900px;\"/>\n",
    "\n",
    "&nbsp;"
   ]
  },
  {
   "cell_type": "code",
   "execution_count": 9,
   "metadata": {
    "pycharm": {
     "name": "#%%\n"
    }
   },
   "outputs": [],
   "source": [
    "#read data\n",
    "exp_data = pd.read_csv(\"exponential.csv\")\n"
   ]
  },
  {
   "cell_type": "markdown",
   "metadata": {
    "pycharm": {
     "name": "#%% md\n"
    }
   },
   "source": [
    "### Question 1"
   ]
  },
  {
   "cell_type": "markdown",
   "metadata": {
    "pycharm": {
     "name": "#%% md\n"
    }
   },
   "source": [
    "<div markdown=1 class=\"Answer\"> \n",
    "\n",
    "Mean calculation:\n",
    "\n",
    "\n",
    "\\begin{align}\n",
    "\\mathbb{E}(X) &= \\int_{0}^{\\infty} \\frac{x}{m}e^{-\\frac{x}{m}} dx \\\\\n",
    "&=  \\int_{0}^{\\infty} -me^{-\\frac{x}{m}} \\\\\n",
    "&= m \\\\\n",
    "&= \\frac{1}{\\lambda}\n",
    "\\end{align}\n",
    "\n",
    "Variance calculation:\n",
    "\n",
    "\n",
    "\\begin{align}\n",
    "Var(X) &= \\int_{0}^{\\infty} \\frac{x^2}{m}e^{-\\frac{x}{m}} dx \\\\\n",
    "&=  \\int_{0}^{\\infty} -2m^2e^{-\\frac{x}{m}} \\\\\n",
    "&= m^2 \\\\\n",
    "&= \\frac{1}{\\lambda^2}\n",
    "\\end{align}\n",
    "\n",
    "\n"
   ]
  },
  {
   "cell_type": "markdown",
   "metadata": {
    "pycharm": {
     "name": "#%% md\n"
    }
   },
   "source": [
    "### Question 2"
   ]
  },
  {
   "cell_type": "markdown",
   "metadata": {
    "pycharm": {
     "name": "#%% md\n"
    }
   },
   "source": [
    "<div markdown=1 class=\"Answer\"> \n",
    "\n",
    "\\begin{align}\n",
    "L(\\lambda, x_1, x_2, \\dots , x_N ) &= \\prod_{i=1}^{N} f_X(x_i) \\\\\n",
    "&= \\frac{1}{m^N} e^{-\\frac{1}{m} \\sum_{i=1}^{N} x_i}\\\\\n",
    "&= \\lambda^N e^{-\\lambda \\sum_{i=1}^{N} x_i} \\\\\n",
    "\\end{align}\n",
    "\n",
    "\n",
    "In log scale, we have:\n",
    "\n",
    "\n",
    "\n",
    "\\begin{align}\n",
    "l_N(\\lambda) &= ln(\\lambda^N) + ln(e^{-\\lambda \\sum_{i=1}^{N} x_i}) \\\\\n",
    "&= Nln(\\lambda) - \\lambda\\sum_{i=1}^{N} x_i \\\\\n",
    "l_N'(\\lambda) &= \\frac{N}{\\lambda} - \\sum_{i=1}^{N} x_i\\\\\n",
    "\\end{align}\n",
    "\n",
    "Setting the derivative to $0$:\n",
    "\n",
    "\\begin{align}\n",
    "\\frac{N}{\\lambda} = \\sum_{i=1}^{N} x_i\\\\\n",
    "\\end{align}\n",
    "\n",
    "Then, we can calculate $\\hat{m}_{ML} = \\frac{1}{\\hat{\\lambda}} = \\sum_{i=1}^{N} x_i = \\bar{X}$ and $\\hat{\\lambda} = \\frac{1}{\\bar{X}}$.\n",
    "\n",
    "We hence notice that $\\hat{m}_{ML}$ is equal to the mean of the dataset\n"
   ]
  },
  {
   "cell_type": "markdown",
   "metadata": {
    "pycharm": {
     "name": "#%% md\n"
    }
   },
   "source": [
    "### Question 3"
   ]
  },
  {
   "cell_type": "markdown",
   "metadata": {
    "pycharm": {
     "name": "#%% md\n"
    }
   },
   "source": [
    "<div markdown=1 class=\"Answer\"> \n",
    "\n",
    "We can first compute whether the estimator is biased:\n",
    "\n",
    "\\begin{align}\n",
    "B(\\hat{m}_{ML}) &= \\mathbb{E}(\\hat{m}_{ML}) - m \\\\\n",
    "&= \\frac{1}{N}\\sum_{i=1}^{N}\\mathbb{E}(X_i) - \\mathbb{E}(X) \\\\\n",
    "&= 0 \\\\\n",
    "\\end{align}\n",
    "\n",
    "Then let us compute the quadratic risk. We have that:\n",
    "\n",
    "\\begin{align}\n",
    "R(\\hat{m}_{ML}) &= B^2(\\hat{m}_{ML}) + Var(\\hat{m}_{ML}) \\\\\n",
    "&= Var(\\frac{1}{N}\\sum_{i=1}^{N}X_i) \\\\\n",
    "&= N\\cdot Var(\\frac{1}{N}X) \\\\\n",
    "&= \\frac{m^2}{N} \\\\\n",
    "\\end{align}"
   ]
  },
  {
   "cell_type": "markdown",
   "metadata": {
    "pycharm": {
     "name": "#%% md\n"
    }
   },
   "source": [
    "### Question 4"
   ]
  },
  {
   "cell_type": "markdown",
   "metadata": {
    "pycharm": {
     "name": "#%% md\n"
    }
   },
   "source": [
    "<div markdown=1 class=\"Answer\">"
   ]
  },
  {
   "cell_type": "code",
   "execution_count": 12,
   "metadata": {
    "pycharm": {
     "name": "#%%\n"
    }
   },
   "outputs": [
    {
     "name": "stderr",
     "output_type": "stream",
     "text": [
      "/home/erikdz/.local/lib/python3.10/site-packages/numpy/core/fromnumeric.py:3430: FutureWarning: In a future version, DataFrame.mean(axis=None) will return a scalar mean over the entire DataFrame. To retain the old behavior, use 'frame.mean(axis=0)' or just 'frame.mean()'\n",
      "  return mean(axis=axis, dtype=dtype, out=out, **kwargs)\n"
     ]
    },
    {
     "name": "stdout",
     "output_type": "stream",
     "text": [
      "Mean of exponential distribution:  x    0.325629\n",
      "dtype: float64\n"
     ]
    },
    {
     "data": {
      "image/png": "[encoded data removed]",
      "text/plain": [
       "<Figure size 640x480 with 1 Axes>"
      ]
     },
     "metadata": {},
     "output_type": "display_data"
    }
   ],
   "source": [
    "import numpy as np\n",
    "#mean of dataset\n",
    "m_hat = np.mean(exp_data)\n",
    "print(\"Mean of exponential distribution: \", m_hat)\n",
    "#plot the pdf\n",
    "x = np.linspace(0, 10, 100)\n",
    "plt.plot(x, stats.expon.pdf(x, scale = m_hat), 'g-', lw=5, alpha=0.6, label='expon pdf based on m_hat')\n",
    "plt.hist(exp_data, bins=100, density=True, label=\"Exponential Data\")\n",
    "\n",
    "plt.legend()\n",
    "plt.show()"
   ]
  },
  {
   "cell_type": "markdown",
   "metadata": {
    "pycharm": {
     "name": "#%% md\n"
    }
   },
   "source": [
    "### Question 5"
   ]
  },
  {
   "cell_type": "markdown",
   "metadata": {
    "pycharm": {
     "name": "#%% md\n"
    }
   },
   "source": [
    "<div markdown=1 class=\"Answer\"> \n",
    "\n",
    "We can compute that for $y\\geq0$:\n",
    "\n",
    "\n",
    "\\begin{align}\n",
    "\\mathbb{P}(M_N \\leq y) &= 1- \\mathbb{P}(M_N > y)\\\\\n",
    "&= 1- \\mathbb{P}(X_1 > y \\cap X_2 > y \\cap \\dots \\cap X_n > y )\\\\\n",
    "&= 1- \\prod_{i=1}^{n}\\mathbb{P}(X_i > y)\\\\\n",
    "&= 1- \\prod_{i=1}^{n} (1 - \\int_{0}^{y}\\frac{1}{m}e^{-\\frac{t}{m}} dt) \\\\\n",
    "&= 1- (1 - \\int_{0}^{y}\\frac{1}{m}e^{-\\frac{t}{m}} dt)^n \\\\\n",
    "&= 1- (1 - (1-e^{-\\frac{y}{m}}))^n \\\\\n",
    "&= 1-e^{-\\frac{yn}{m}} \\\\\n",
    "\\end{align}\n",
    "\n",
    "For $y\\leq0$:\n",
    "\n",
    "\\begin{align}\n",
    "\\mathbb{P}(M_N \\leq y) &= 0\\\\\n",
    "\\end{align}\n",
    "\n",
    "Then the p.d.f is the following:\n",
    "\n",
    "\\begin{align}\n",
    "f_{M_n}(y) &= \\frac{n}{m}e^{-\\frac{yn}{m}}\\\\\n",
    "\\end{align}"
   ]
  },
  {
   "cell_type": "markdown",
   "metadata": {
    "pycharm": {
     "name": "#%% md\n"
    }
   },
   "source": [
    "### Question 6"
   ]
  },
  {
   "cell_type": "markdown",
   "metadata": {
    "pycharm": {
     "name": "#%% md\n"
    }
   },
   "source": [
    "<div markdown=1 class=\"Answer\">\n",
    "\n",
    "We can first compute whether the estimator is biased:\n",
    "\n",
    "\\begin{align}\n",
    "B(Y_n) &= \\mathbb{E}(Y_n) - m \\\\\n",
    "\\end{align}\n",
    "\n",
    "Then, we have:\n",
    "\n",
    "\\begin{align}\n",
    "\\mathbb{P}(Y_n\\leq y) &= \\mathbb{P}(nM_n\\leq y) \\\\\n",
    "&= \\mathbb{P}(M_n\\leq \\frac{y}{n}) \\\\\n",
    "&= 1-e^{-\\frac{yn}{m}} \\\\\n",
    "\\end{align}\n",
    "\n",
    "Then, $f_{Y_n}(y) = \\frac{1}{m}e^{-\\frac{yn}{m}} \\implies Y_n \\sim exp(\\frac{1}{m})$.\n",
    "\n",
    "Hence, we have that $B(Y_n) = \\mathbb{E}(Y_n) - m = 0$.\n",
    "\n",
    "Then let us compute the quadratic risk. We have that:\n",
    "\n",
    "\\begin{align}\n",
    "R(Y_n) &= Var(Y_n) \\\\\n",
    "&= m^2 \\\\\n",
    "\\end{align}"
   ]
  },
  {
   "cell_type": "markdown",
   "metadata": {
    "pycharm": {
     "name": "#%% md\n"
    }
   },
   "source": [
    "## Exercise 1 Part 2"
   ]
  },
  {
   "cell_type": "markdown",
   "metadata": {
    "pycharm": {
     "name": "#%% md\n"
    }
   },
   "source": [
    "&nbsp;\n",
    "\n",
    "<img src=\"./figures/Ex1pt2.png\" alt=\"Roots\" style=\"width: 900px;\"/>\n",
    "\n",
    "&nbsp;"
   ]
  },
  {
   "cell_type": "markdown",
   "metadata": {
    "pycharm": {
     "name": "#%% md\n"
    }
   },
   "source": [
    "### Question 7"
   ]
  },
  {
   "cell_type": "markdown",
   "metadata": {
    "pycharm": {
     "name": "#%% md\n"
    }
   },
   "source": [
    "<div markdown=1 class=\"Answer\"> \n",
    "\n",
    "Use the ML maximum likelihood estimator as the risk of ML converges faster to 0 and is hence minimised."
   ]
  },
  {
   "cell_type": "markdown",
   "metadata": {
    "pycharm": {
     "name": "#%% md\n"
    }
   },
   "source": [
    "### Question 8"
   ]
  },
  {
   "cell_type": "markdown",
   "metadata": {
    "pycharm": {
     "name": "#%% md\n"
    }
   },
   "source": [
    "<div markdown=1 class=\"Answer\"> \n",
    "\n",
    "We can first compute $\\bar{V_n}$:\n",
    "\n",
    "\\begin{align}\n",
    "\\bar{V_n} &= \\frac{1}{n}\\sum_{i=1}^{n}(X_i-\\bar{X_n})^2 \\\\\n",
    "&= (\\frac{1}{n}\\sum_{i=1}^{n}(X_i^2)) - (\\bar{X_n})^2\\\\\n",
    "\\end{align}\n",
    "\n",
    "The following limits will represent convergences in probability.\n",
    "\n",
    "Then, as $\\lim_{x\\to\\infty} \\bar{X_n} = \\mathbb{E}(X_1)$ and $x\\mapsto x^2$ is  continuous,\n",
    "therefore we have $\\lim_{n\\to\\infty} \\bar{X_n^2} = \\mathbb{E}(X_1)^2$.\n",
    "\n",
    "Then, by defining $Y_i=X_i^2$, \n",
    "\n",
    "$\\lim_{n\\to\\infty} \\frac{1}{n}\\sum_{i=1}^{n}Y_i = \\mathbb{E}(Y_1)$, \n",
    "which is equivalent to $\\lim_{n\\to\\infty} \\frac{1}{n}\\sum_{i=1}^{n}X_i^2 = \\mathbb{E}(X_1^2)$.\n",
    "\n",
    "Hence,\n",
    "\n",
    "$\\lim_{n\\to\\infty} \\bar{V_n} = \\lim_{n\\to\\infty} \\frac{1}{n}\\sum_{i=1}^{n}(X_i-\\bar{X_n})^2 = \\mathbb{E}(X_1^2)- \\mathbb{E}(X_1)^2 = Var(X_1)$"
   ]
  },
  {
   "cell_type": "markdown",
   "metadata": {
    "pycharm": {
     "name": "#%% md\n"
    }
   },
   "source": [
    "### Question 9"
   ]
  },
  {
   "cell_type": "markdown",
   "metadata": {
    "pycharm": {
     "name": "#%% md\n"
    }
   },
   "source": [
    "<div markdown=1 class=\"Answer\"> \n",
    "\n",
    "From the central limit theorem:\n",
    "\n",
    "$\\lim_{n\\to\\infty} Z_n = \\lim_{n\\to\\infty} \\sqrt{n}\\cdot (\\frac{\\hat{m}_{ML}-m}{\\sqrt{\\bar{V_n}}}) \\sim \\mathcal{N}(0,1)$"
   ]
  },
  {
   "cell_type": "markdown",
   "metadata": {
    "pycharm": {
     "name": "#%% md\n"
    }
   },
   "source": [
    "### Question 10"
   ]
  },
  {
   "cell_type": "markdown",
   "metadata": {
    "pycharm": {
     "name": "#%% md\n"
    }
   },
   "source": [
    "<div markdown=1 class=\"Answer\">\n",
    "\n"
   ]
  },
  {
   "cell_type": "code",
   "execution_count": 13,
   "metadata": {
    "pycharm": {
     "name": "#%%\n"
    }
   },
   "outputs": [
    {
     "data": {
      "image/png": "[encoded data removed]",
      "text/plain": [
       "<Figure size 640x480 with 1 Axes>"
      ]
     },
     "metadata": {},
     "output_type": "display_data"
    }
   ],
   "source": [
    "#simulate central limit theorem with z_n = sqrt(n)*(m_hat - m)/sqrt(empirical variance)\n",
    "n = 10**5\n",
    "#m_hat is the mean of the data of vector size n\n",
    "m_hat = np.mean(exp_data)\n",
    "m = 0.3\n",
    "z_n = np.sqrt(n)*(m_hat - m)/np.sqrt(np.var(exp_data))\n",
    "#plot the pdf\n",
    "x = np.linspace(-5, 5, 100)\n",
    "plt.plot(x, stats.norm.pdf(x, scale = 1), 'b-', lw=5, alpha=0.6, label='normal $f_X(x)$')\n",
    "plt.legend()\n",
    "plt.show()"
   ]
  },
  {
   "cell_type": "markdown",
   "metadata": {
    "pycharm": {
     "name": "#%% md\n"
    }
   },
   "source": [
    "### Question 11"
   ]
  },
  {
   "cell_type": "markdown",
   "metadata": {
    "pycharm": {
     "name": "#%% md\n"
    }
   },
   "source": [
    "<div markdown=1 class=\"Answer\">\n",
    "\n",
    "The quantile function of $X\\sim\\mathcal{N}(0,1)$ is\n",
    "\n",
    "$$\n",
    "Q_X(p) = \\sqrt{2} \\cdot \\mathrm{erf}^{-1}(2p-1)\n",
    "$$\n",
    "\n",
    "where $\\mathrm{erf}^{-1}(x)$ is the inverse error function.\n",
    "\n",
    "\n",
    "**Proof:** The cumulative distribution function of the normal distribution is:\n",
    "\n",
    "$$\n",
    "F_X(x) = \\frac{1}{2} \\left[ 1 + \\mathrm{erf}\\left( \\frac{x}{\\sqrt{2}} \\right) \\right] \\; .\n",
    "$$\n",
    "\n",
    "Because the cumulative distribution function (CDF) is strictly monotonically increasing, the quantile function is equal to the inverse of the CDF:\n",
    "\n",
    "$$ \\label{eq:norm-qf-s1}\n",
    "Q_X(p) = F_X^{-1}(x) \\; .\n",
    "$$\n",
    "\n",
    "This can be derived by rearranging equation the normal distribution cdf equation:\n",
    "\n",
    "$$\n",
    "\\begin{split}\n",
    "p &= \\frac{1}{2} \\left[ 1 + \\mathrm{erf}\\left( \\frac{x}{\\sqrt{2}} \\right) \\right] \\\\\n",
    "2 p - 1 &= \\mathrm{erf}\\left( \\frac{x}{\\sqrt{2}} \\right) \\\\\n",
    "\\mathrm{erf}^{-1}(2p-1) &= \\frac{x}{\\sqrt{2}} \\\\\n",
    "x &= \\sqrt{2} \\cdot \\mathrm{erf}^{-1}(2p-1) \\; .\n",
    "\\end{split}\n",
    "$$\n",
    "\n",
    "Now, using this fact, we can compute the interval $I$ such that $Q_X(1-\\frac{\\alpha}{2}) = \\sqrt{2} \\cdot \\mathrm{erf}^{-1}(1-\\alpha)$:\n",
    "\n",
    "$I = \\left[\\hat{m}_{ML} - Q_X(1-\\frac{\\alpha}{2})\\sqrt{\\frac{\\bar{V_n}}{n}} , \\hat{m}_{ML} + Q_X(1-\\frac{\\alpha}{2})\\sqrt{\\frac{\\bar{V_n}}{n}} \\right]$"
   ]
  },
  {
   "cell_type": "markdown",
   "metadata": {
    "pycharm": {
     "name": "#%% md\n"
    }
   },
   "source": [
    "## Exercise 2"
   ]
  },
  {
   "cell_type": "markdown",
   "metadata": {
    "pycharm": {
     "name": "#%% md\n"
    }
   },
   "source": [
    "&nbsp;\n",
    "\n",
    "<img src=\"./figures/Ex2.png\" alt=\"Roots\" style=\"width: 900px;\"/>\n",
    "\n",
    "&nbsp;"
   ]
  },
  {
   "cell_type": "markdown",
   "metadata": {
    "pycharm": {
     "name": "#%% md\n"
    }
   },
   "source": [
    "### Question 7"
   ]
  },
  {
   "cell_type": "markdown",
   "metadata": {
    "pycharm": {
     "name": "#%% md\n"
    }
   },
   "source": [
    "<div markdown=1 class=\"Answer\"> "
   ]
  },
  {
   "cell_type": "markdown",
   "metadata": {
    "pycharm": {
     "name": "#%% md\n"
    }
   },
   "source": [
    "### Question 8"
   ]
  },
  {
   "cell_type": "markdown",
   "metadata": {
    "pycharm": {
     "name": "#%% md\n"
    }
   },
   "source": [
    "<div markdown=1 class=\"Answer\"> "
   ]
  },
  {
   "cell_type": "markdown",
   "metadata": {
    "pycharm": {
     "name": "#%% md\n"
    }
   },
   "source": [
    "### Question 9"
   ]
  },
  {
   "cell_type": "markdown",
   "metadata": {
    "pycharm": {
     "name": "#%% md\n"
    }
   },
   "source": [
    "<div markdown=1 class=\"Answer\"> "
   ]
  },
  {
   "cell_type": "markdown",
   "metadata": {
    "pycharm": {
     "name": "#%% md\n"
    }
   },
   "source": [
    "### Question 10"
   ]
  },
  {
   "cell_type": "code",
   "execution_count": null,
   "metadata": {
    "collapsed": false,
    "pycharm": {
     "name": "#%%\n"
    }
   },
   "outputs": [
    {
     "ename": "",
     "evalue": "",
     "output_type": "error",
     "traceback": [
      "\u001b[1;31mRunning cells with '/usr/bin/python2' requires ipykernel package.\n",
      "\u001b[1;31mRun the following command to install 'ipykernel' into the Python environment. \n",
      "\u001b[1;31mCommand: '/usr/bin/python2 -m pip install ipykernel -U --user --force-reinstall'"
     ]
    }
   ],
   "source": [
    "#compute P(X<2) where X follows a normal distribution with mean 2.5 and variance 1/80\n",
    "#using the cdf\n",
    "stats.norm.cdf(2, loc = 2.5, scale = np.sqrt(5)/20)\n"
   ]
  },
  {
   "cell_type": "markdown",
   "metadata": {
    "pycharm": {
     "name": "#%% md\n"
    }
   },
   "source": [
    "<div markdown=1 class=\"Answer\"> "
   ]
  },
  {
   "cell_type": "markdown",
   "metadata": {
    "pycharm": {
     "name": "#%% md\n"
    }
   },
   "source": [
    "### Question 11"
   ]
  },
  {
   "cell_type": "markdown",
   "metadata": {
    "pycharm": {
     "name": "#%% md\n"
    }
   },
   "source": [
    "<div markdown=1 class=\"Answer\">"
   ]
  },
  {
   "cell_type": "code",
   "execution_count": null,
   "metadata": {
    "pycharm": {
     "name": "#%%\n"
    }
   },
   "outputs": [
    {
     "ename": "",
     "evalue": "",
     "output_type": "error",
     "traceback": [
      "\u001b[1;31mRunning cells with '/usr/bin/python2' requires ipykernel package.\n",
      "\u001b[1;31mRun the following command to install 'ipykernel' into the Python environment. \n",
      "\u001b[1;31mCommand: '/usr/bin/python2 -m pip install ipykernel -U --user --force-reinstall'"
     ]
    }
   ],
   "source": [
    "# execute this part to modify the css style\n",
    "from IPython.core.display import HTML\n",
    "def css_styling():\n",
    "    styles = open(\"./style/custom3.css\").read()\n",
    "    return HTML(styles)\n",
    "css_styling()"
   ]
  },
  {
   "cell_type": "code",
   "execution_count": null,
   "metadata": {
    "collapsed": false,
    "pycharm": {
     "name": "#%%\n"
    }
   },
   "outputs": [
    {
     "ename": "",
     "evalue": "",
     "output_type": "error",
     "traceback": [
      "\u001b[1;31mRunning cells with '/usr/bin/python2' requires ipykernel package.\n",
      "\u001b[1;31mRun the following command to install 'ipykernel' into the Python environment. \n",
      "\u001b[1;31mCommand: '/usr/bin/python2 -m pip install ipykernel -U --user --force-reinstall'"
     ]
    }
   ],
   "source": []
  },
  {
   "cell_type": "code",
   "execution_count": null,
   "metadata": {
    "pycharm": {
     "name": "#%%\n"
    }
   },
   "outputs": [
    {
     "ename": "",
     "evalue": "",
     "output_type": "error",
     "traceback": [
      "\u001b[1;31mRunning cells with '/usr/bin/python2' requires ipykernel package.\n",
      "\u001b[1;31mRun the following command to install 'ipykernel' into the Python environment. \n",
      "\u001b[1;31mCommand: '/usr/bin/python2 -m pip install ipykernel -U --user --force-reinstall'"
     ]
    }
   ],
   "source": []
  }
 ],
 "metadata": {
  "kernelspec": {
   "display_name": "Python 3",
   "language": "python",
   "name": "python3"
  },
  "language_info": {
   "codemirror_mode": {
    "name": "ipython",
    "version": 3
   },
   "file_extension": ".py",
   "mimetype": "text/x-python",
   "name": "python",
   "nbconvert_exporter": "python",
   "pygments_lexer": "ipython3",
   "version": "3.10.6"
  },
  "latex_envs": {
   "LaTeX_envs_menu_present": true,
   "autoclose": false,
   "autocomplete": false,
   "bibliofile": "biblio.bib",
   "cite_by": "number",
   "current_citInitial": 1,
   "eqLabelWithNumbers": true,
   "eqNumInitial": 1,
   "hotkeys": {
    "equation": "Ctrl-E",
    "itemize": "Ctrl-I"
   },
   "labels_anchors": false,
   "latex_user_defs": false,
   "report_style_numbering": false,
   "user_envs_cfg": false
  },
  "toc": {
   "base_numbering": 1,
   "nav_menu": {},
   "number_sections": true,
   "sideBar": true,
   "skip_h1_title": true,
   "title_cell": "Table of Contents",
   "title_sidebar": "Contents",
   "toc_cell": false,
   "toc_position": {},
   "toc_section_display": "block",
   "toc_window_display": true
  },
  "vscode": {
   "interpreter": {
    "hash": "31f2aee4e71d21fbe5cf8b01ff0e069b9275f58929596ceb00d14d90e3e16cd6"
   }
  }
 },
 "nbformat": 4,
 "nbformat_minor": 2
}
